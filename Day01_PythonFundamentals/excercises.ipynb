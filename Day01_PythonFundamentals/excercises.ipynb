{
 "cells": [
  {
   "cell_type": "code",
   "execution_count": 4,
   "id": "c999c2e1-c1e4-4057-99ad-b04a0dd84266",
   "metadata": {},
   "outputs": [
    {
     "name": "stdout",
     "output_type": "stream",
     "text": [
      "x : <class 'int'>\n",
      "name : <class 'str'>\n",
      "pi : <class 'bool'>\n",
      "my_list : <class 'list'>\n"
     ]
    }
   ],
   "source": [
    "x = 10 \n",
    "name = \"Mike\"\n",
    "pi = 3.14\n",
    "is_ready = True\n",
    "my_list = [1, 2, 3]\n",
    "\n",
    "print(f\"x : {type(x)}\")\n",
    "print(f\"name : {type(name)}\")\n",
    "print(f\"pi : {type(is_ready)}\")\n",
    "print(f\"my_list : {type(my_list)}\")"
   ]
  },
  {
   "cell_type": "code",
   "execution_count": 32,
   "id": "76bfb7a2-48b1-48a0-b532-c0472d330d90",
   "metadata": {},
   "outputs": [
    {
     "name": "stdout",
     "output_type": "stream",
     "text": [
      "46 is even\n",
      "42 is even\n",
      "84 is even\n",
      "50 is even\n",
      "22 is even\n",
      "94 is even\n",
      "94 is even\n",
      "46 is even\n",
      "26 is even\n",
      "76 is even\n",
      "52 is even\n",
      "14 is even\n",
      "82 is even\n",
      "92 is even\n",
      "36 is even\n",
      "42 is even\n",
      "48 is even\n",
      "48 is even\n",
      "30 is even\n",
      "100 is even\n",
      "96 is even\n",
      "28 is even\n",
      "100 is even\n",
      "26 is even\n",
      "88 is even\n",
      "Total even numbers in List: 25\n",
      "\n",
      "Key: 1 Value:73\n",
      "Key: 2 Value:12\n",
      "Key: 3 Value:74\n",
      "Key: 4 Value:51\n",
      "Key: 5 Value:31\n",
      "Key: 6 Value:73\n",
      "Key: 7 Value:77\n",
      "Key: 8 Value:15\n",
      "Key: 9 Value:91\n",
      "Key: 10 Value:68\n",
      "Key: 11 Value:44\n",
      "Key: 12 Value:87\n",
      "Key: 13 Value:28\n",
      "Key: 14 Value:63\n",
      "Key: 15 Value:70\n",
      "Key: 16 Value:58\n",
      "Key: 17 Value:62\n",
      "Key: 18 Value:38\n",
      "Key: 19 Value:76\n",
      "Key: 20 Value:65\n",
      "Key: 21 Value:15\n",
      "Key: 22 Value:69\n",
      "Key: 23 Value:22\n",
      "Key: 24 Value:74\n",
      "Key: 25 Value:69\n",
      "Key: 26 Value:88\n",
      "Key: 27 Value:44\n",
      "Key: 28 Value:93\n",
      "Key: 29 Value:36\n",
      "Key: 30 Value:99\n",
      "Key: 31 Value:23\n",
      "Key: 32 Value:84\n",
      "Key: 33 Value:57\n",
      "Key: 34 Value:89\n",
      "Key: 35 Value:51\n",
      "Key: 36 Value:68\n",
      "Key: 37 Value:99\n",
      "Key: 38 Value:63\n",
      "Key: 39 Value:94\n",
      "Key: 40 Value:66\n",
      "Key: 41 Value:3\n",
      "Key: 42 Value:1\n",
      "Key: 43 Value:85\n",
      "Key: 44 Value:26\n",
      "Key: 45 Value:55\n",
      "Key: 46 Value:29\n",
      "Key: 47 Value:20\n",
      "Key: 48 Value:7\n",
      "Key: 49 Value:74\n",
      "Key: 50 Value:80\n"
     ]
    }
   ],
   "source": [
    "import random\n",
    "\n",
    "random_numbers_dict = {}\n",
    "random_numbers_list = []\n",
    "even_num_list_counter = 0\n",
    "for i in range(1, 51):  # Loop 50 times to generate 50 numbers\n",
    "    # Generate a random integer between 1 and 100 (inclusive)\n",
    "    random_num = random.randint(1, 100)\n",
    "    random_numbers_list.append(random_num)\n",
    "\n",
    "for i in random_numbers_list:\n",
    "    if i % 2 == 0:\n",
    "        print(f\"{i} is even\")\n",
    "        even_num_list_counter += 1\n",
    "print(f\"Total even numbers in List: {even_num_list_counter}\\n\")\n",
    "# Generate 50 random numbers and assign them as values to the dictionary\n",
    "for i in range(1, 51):  # Loop 50 times to generate 50 numbers\n",
    "    # Generate a random integer between 1 and 100 (inclusive)\n",
    "    random_num = random.randint(1, 100) \n",
    "    # Assign the random number to a descriptive key in the dictionary\n",
    "    random_numbers_dict[i] = random_num \n",
    "\n",
    "for key, value in random_numbers_dict.items():\n",
    "    print(f\"Key: {key} Value:{value}\")\n"
   ]
  },
  {
   "cell_type": "code",
   "execution_count": 65,
   "id": "64a988bc-2fa9-49e0-9429-6e76e3147ba5",
   "metadata": {},
   "outputs": [
    {
     "name": "stdout",
     "output_type": "stream",
     "text": [
      "square of 11: 121\n",
      "Even numbers in list: \n",
      "\n",
      "40\n",
      "12\n",
      "36\n",
      "16\n",
      "74\n",
      "76\n",
      "6\n"
     ]
    }
   ],
   "source": [
    "def square(x):\n",
    "    return x ** 2\n",
    "\n",
    "def get_evens(nums):\n",
    "    return [n for n in nums if n % 2 == 0]\n",
    "\n",
    "\n",
    "random_num = random.randint(1, 100)\n",
    "print(f\"square of {random_num}: {square(random_num)}\")\n",
    "\n",
    "random_numbers_list = []\n",
    "for i in range(1, random_num):  # Loop 50 times to generate 50 numbers\n",
    "    # Generate a random integer between 1 and 100 (inclusive)\n",
    "    random_numbers_list.append(random.randint(1, 100))\n",
    "even_nums = get_evens(random_numbers_list)\n",
    "\n",
    "print(f\"Even numbers in list: \\n\")\n",
    "\n",
    "for i in even_nums:\n",
    "    print (i)"
   ]
  },
  {
   "cell_type": "code",
   "execution_count": 1,
   "id": "4dca8e86-78e3-44cc-af04-12d67f3c14cb",
   "metadata": {},
   "outputs": [
    {
     "name": "stdout",
     "output_type": "stream",
     "text": [
      "[0, 2, 4, 6, 8]\n"
     ]
    }
   ],
   "source": [
    "doubled = [x * 2 for x in range(5)]\n",
    "print(doubled)\n"
   ]
  },
  {
   "cell_type": "code",
   "execution_count": 2,
   "id": "c09b2e7c-dfa7-4b96-886a-b02c81b5a908",
   "metadata": {},
   "outputs": [
    {
     "name": "stdout",
     "output_type": "stream",
     "text": [
      "[1, 3, 5, 7, 9]\n"
     ]
    }
   ],
   "source": [
    "odds = [x for x in range(10) if x % 2 == 1]\n",
    "print(odds)\n"
   ]
  },
  {
   "cell_type": "code",
   "execution_count": 3,
   "id": "b3999b64-8625-430e-af0d-c36c3a27bef7",
   "metadata": {},
   "outputs": [
    {
     "name": "stdout",
     "output_type": "stream",
     "text": [
      "[0, 0, 0, 0, 1, 2]\n"
     ]
    }
   ],
   "source": [
    "products = [i * j for i in range(2) for j in range(3)]\n",
    "print(products)\n"
   ]
  }
 ],
 "metadata": {
  "kernelspec": {
   "display_name": "Python 3 (ipykernel)",
   "language": "python",
   "name": "python3"
  },
  "language_info": {
   "codemirror_mode": {
    "name": "ipython",
    "version": 3
   },
   "file_extension": ".py",
   "mimetype": "text/x-python",
   "name": "python",
   "nbconvert_exporter": "python",
   "pygments_lexer": "ipython3",
   "version": "3.12.3"
  }
 },
 "nbformat": 4,
 "nbformat_minor": 5
}
